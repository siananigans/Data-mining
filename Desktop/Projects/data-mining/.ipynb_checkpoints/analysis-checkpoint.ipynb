{
 "cells": [
  {
   "cell_type": "code",
   "execution_count": 164,
   "metadata": {},
   "outputs": [],
   "source": [
    "import pandas as pd\n",
    "import numpy as np\n",
    "import matplotlib.pyplot as plt\n",
    "import seaborn as sns\n",
    "from tqdm import tqdm\n",
    "import math\n",
    "ds = pd.read_csv(\"meteorite-landings.csv\")\n"
   ]
  },
  {
   "cell_type": "code",
   "execution_count": 130,
   "metadata": {},
   "outputs": [
    {
     "data": {
      "text/plain": [
       "45716"
      ]
     },
     "execution_count": 130,
     "metadata": {},
     "output_type": "execute_result"
    }
   ],
   "source": [
    "len(ds['id'].unique())"
   ]
  },
  {
   "cell_type": "code",
   "execution_count": 131,
   "metadata": {},
   "outputs": [
    {
     "data": {
      "text/html": [
       "<div>\n",
       "<style scoped>\n",
       "    .dataframe tbody tr th:only-of-type {\n",
       "        vertical-align: middle;\n",
       "    }\n",
       "\n",
       "    .dataframe tbody tr th {\n",
       "        vertical-align: top;\n",
       "    }\n",
       "\n",
       "    .dataframe thead th {\n",
       "        text-align: right;\n",
       "    }\n",
       "</style>\n",
       "<table border=\"1\" class=\"dataframe\">\n",
       "  <thead>\n",
       "    <tr style=\"text-align: right;\">\n",
       "      <th></th>\n",
       "      <th>name</th>\n",
       "      <th>id</th>\n",
       "      <th>nametype</th>\n",
       "      <th>recclass</th>\n",
       "      <th>mass</th>\n",
       "      <th>fall</th>\n",
       "      <th>year</th>\n",
       "      <th>reclat</th>\n",
       "      <th>reclong</th>\n",
       "      <th>GeoLocation</th>\n",
       "    </tr>\n",
       "  </thead>\n",
       "  <tbody>\n",
       "    <tr>\n",
       "      <th>0</th>\n",
       "      <td>Aachen</td>\n",
       "      <td>1</td>\n",
       "      <td>Valid</td>\n",
       "      <td>L5</td>\n",
       "      <td>21.0</td>\n",
       "      <td>Fell</td>\n",
       "      <td>1880.0</td>\n",
       "      <td>50.77500</td>\n",
       "      <td>6.08333</td>\n",
       "      <td>(50.775000, 6.083330)</td>\n",
       "    </tr>\n",
       "    <tr>\n",
       "      <th>1</th>\n",
       "      <td>Aarhus</td>\n",
       "      <td>2</td>\n",
       "      <td>Valid</td>\n",
       "      <td>H6</td>\n",
       "      <td>720.0</td>\n",
       "      <td>Fell</td>\n",
       "      <td>1951.0</td>\n",
       "      <td>56.18333</td>\n",
       "      <td>10.23333</td>\n",
       "      <td>(56.183330, 10.233330)</td>\n",
       "    </tr>\n",
       "    <tr>\n",
       "      <th>2</th>\n",
       "      <td>Abee</td>\n",
       "      <td>6</td>\n",
       "      <td>Valid</td>\n",
       "      <td>EH4</td>\n",
       "      <td>107000.0</td>\n",
       "      <td>Fell</td>\n",
       "      <td>1952.0</td>\n",
       "      <td>54.21667</td>\n",
       "      <td>-113.00000</td>\n",
       "      <td>(54.216670, -113.000000)</td>\n",
       "    </tr>\n",
       "    <tr>\n",
       "      <th>3</th>\n",
       "      <td>Acapulco</td>\n",
       "      <td>10</td>\n",
       "      <td>Valid</td>\n",
       "      <td>Acapulcoite</td>\n",
       "      <td>1914.0</td>\n",
       "      <td>Fell</td>\n",
       "      <td>1976.0</td>\n",
       "      <td>16.88333</td>\n",
       "      <td>-99.90000</td>\n",
       "      <td>(16.883330, -99.900000)</td>\n",
       "    </tr>\n",
       "    <tr>\n",
       "      <th>4</th>\n",
       "      <td>Achiras</td>\n",
       "      <td>370</td>\n",
       "      <td>Valid</td>\n",
       "      <td>L6</td>\n",
       "      <td>780.0</td>\n",
       "      <td>Fell</td>\n",
       "      <td>1902.0</td>\n",
       "      <td>-33.16667</td>\n",
       "      <td>-64.95000</td>\n",
       "      <td>(-33.166670, -64.950000)</td>\n",
       "    </tr>\n",
       "  </tbody>\n",
       "</table>\n",
       "</div>"
      ],
      "text/plain": [
       "       name   id nametype     recclass      mass  fall    year    reclat  \\\n",
       "0    Aachen    1    Valid           L5      21.0  Fell  1880.0  50.77500   \n",
       "1    Aarhus    2    Valid           H6     720.0  Fell  1951.0  56.18333   \n",
       "2      Abee    6    Valid          EH4  107000.0  Fell  1952.0  54.21667   \n",
       "3  Acapulco   10    Valid  Acapulcoite    1914.0  Fell  1976.0  16.88333   \n",
       "4   Achiras  370    Valid           L6     780.0  Fell  1902.0 -33.16667   \n",
       "\n",
       "     reclong               GeoLocation  \n",
       "0    6.08333     (50.775000, 6.083330)  \n",
       "1   10.23333    (56.183330, 10.233330)  \n",
       "2 -113.00000  (54.216670, -113.000000)  \n",
       "3  -99.90000   (16.883330, -99.900000)  \n",
       "4  -64.95000  (-33.166670, -64.950000)  "
      ]
     },
     "execution_count": 131,
     "metadata": {},
     "output_type": "execute_result"
    }
   ],
   "source": [
    "#head of data\n",
    "ds.head(5)"
   ]
  },
  {
   "cell_type": "code",
   "execution_count": 132,
   "metadata": {},
   "outputs": [],
   "source": [
    "#we haev 10 attributes in our ds\n",
    "#name- \n",
    "#id- unique\n",
    "#nametype- valid/relict(highly degraded by weather)\n",
    "#recclass- meteroite classification\n",
    "#mass (in grams)\n",
    "#fall - fell(fall was observed)/found(fall was not observed)\n",
    "#year-\n",
    "#reclat-the latitude\n",
    "#reclong-longitude\n",
    "#GeoLocation- tuple of reclat and reclong\n",
    "\n",
    "\n",
    "#Localisation\\Physical properties\\ Others\n",
    "#name        \\nametype           \\id\n",
    "#reclat      \\recclass           \\fall\n",
    "#reclong     \\mass               \\year\n",
    "#GeoLocation"
   ]
  },
  {
   "cell_type": "code",
   "execution_count": 133,
   "metadata": {},
   "outputs": [
    {
     "name": "stdout",
     "output_type": "stream",
     "text": [
      "There are 45716 unique names out of total 45716 and 0 nan vals\n"
     ]
    }
   ],
   "source": [
    "ds_name=ds['name']#\n",
    "print('There are {} unique names out of total {} and {} nan vals'.format(len(ds.name.unique()),len(ds.name),len(ds_name[ds_name.isna()])))"
   ]
  },
  {
   "cell_type": "code",
   "execution_count": 134,
   "metadata": {},
   "outputs": [
    {
     "name": "stdout",
     "output_type": "stream",
     "text": [
      "There are 12739 unique lats out of total 45716 and 7315 nan vals\n"
     ]
    }
   ],
   "source": [
    "ds_reclat=ds['reclat']#\n",
    "print('There are {} unique lats out of total {} and {} nan vals'.format(len(ds.reclat.unique()),len(ds.reclat),len(ds_reclat[ds_reclat.isna()])))"
   ]
  },
  {
   "cell_type": "code",
   "execution_count": 135,
   "metadata": {},
   "outputs": [
    {
     "name": "stdout",
     "output_type": "stream",
     "text": [
      "There are 14641 unique longs out of total 45716 and 7315 nan vals\n"
     ]
    }
   ],
   "source": [
    "ds_reclong=ds['reclong']\n",
    "print('There are {} unique longs out of total {} and {} nan vals'.format(len(ds.reclong.unique()),len(ds.reclong),len(ds_reclong[ds_reclong.isna()])))"
   ]
  },
  {
   "cell_type": "code",
   "execution_count": 136,
   "metadata": {},
   "outputs": [
    {
     "name": "stdout",
     "output_type": "stream",
     "text": [
      "There are 17101 unique location out of 45716 total as well as 7315 NaN values\n"
     ]
    }
   ],
   "source": [
    "ds_geo=ds['GeoLocation']\n",
    "print(\"There are {} unique location out of {} total as well as {} NaN values\".format(len(ds_geo.unique()), len(ds_geo), len(ds_geo[ds_geo.isna()])))\n"
   ]
  },
  {
   "cell_type": "code",
   "execution_count": 137,
   "metadata": {},
   "outputs": [
    {
     "data": {
      "image/png": "[encoded data removed]",
      "text/plain": [
       "<Figure size 432x288 with 1 Axes>"
      ]
     },
     "metadata": {
      "needs_background": "light"
     },
     "output_type": "display_data"
    }
   ],
   "source": [
    "twenty_most_common_locations = ds_geo.value_counts()[:19]\n",
    "#Adding the NaN counts\n",
    "twenty_most_common_locations = twenty_most_common_locations.append(pd.Series(len(ds_geo[ds_geo.isna()]), index=[\"No value\"]))\n",
    "twenty_most_common_locations = twenty_most_common_locations.sort_values(ascending=False)\n",
    "\n",
    "common_location_barplot = sns.barplot(twenty_most_common_locations.keys(), twenty_most_common_locations);\n",
    "common_location_barplot.set_xticklabels(common_location_barplot.get_xticklabels(), rotation=45, horizontalalignment='right')\n",
    "common_location_barplot.set_title(\"Barplot of the 20 most common location of meteorites\")\n",
    "common_location_barplot;"
   ]
  },
  {
   "cell_type": "code",
   "execution_count": 138,
   "metadata": {},
   "outputs": [],
   "source": [
    "ds_recclass = ds['recclass']"
   ]
  },
  {
   "cell_type": "code",
   "execution_count": 139,
   "metadata": {},
   "outputs": [],
   "source": [
    "#all taken from notebook and wikipedia\n",
    "#too mnay classifications that can be split up into 3 larger groups\n",
    "main_meteorite_classes = {\n",
    "    \"stony\": [\"CI\", \"CM\", \"CO\", \"CV\", \"CK\", \"CR\", \"CH\", \"CB\", \"H\", \"L\", \"LL\", \"E\", \"OC\", \"LLL\", \"HL\", \"EH\", \"EL\", \"R\", \"K\", \"ACAPULCOITE\", \"LODRANITE\", \"WINONAITE\", \"HOWARDITE\", \"EUCRITE\", \"DIOGENITE\", \"ANGRITE\", \"AUBRITE\", \"UREILITE\", \"BRACHINITE\", \"LUNAR\", \"SHERGOTTITE\", \"NAKHLITE\", \"CHASSIGNITE\", \"MARTIAN\", \"ACHONDRITE\", \"CHONDRITE\", \"RELICTOC\"],\n",
    "    \"stony_iron\": [\"PALLASITE\", \"MESOSIDERITE\"],\n",
    "    \"iron\": [\"IC\", \"IIAB\", \"IIC\", \"IID\", \"IIF\", \"IIG\", \"IIIAB\", \"IIIE\", \"IIIF\", \"IVA\", \"IVB\", \"IAB\", \"UDEI\", \"PITTS\", \"sLL\", \"sLM\", \"sLH\", \"sHL\", \"sHH\", \"IIE\"]\n",
    "}\n",
    "def get_cate(recclass):\n",
    "    #get category \n",
    "    #take away uppercase\n",
    "    recclassNew=\"\".join(char for char in recclass if char.isalpha())\n",
    "    \n",
    "    if 'iron' in recclassNew.lower():\n",
    "        return 'iron'\n",
    "\n",
    "    for key in main_meteorite_classes.keys():\n",
    "        if (recclassNew.upper() in main_meteorite_classes[key]):\n",
    "            return key\n",
    "        for name in main_meteorite_classes[key]:\n",
    "            if (len(name) >= 3 and name in recclassNew.upper()):\n",
    "                return key\n",
    "    \n",
    "    #print(\"Unclassified: {}\".format(corrected_recclass))\n",
    "    return \"unclassified\""
   ]
  },
  {
   "cell_type": "code",
   "execution_count": 140,
   "metadata": {},
   "outputs": [],
   "source": [
    "cateClass=[]\n",
    "for entry in ds_recclass:\n",
    "    cateClass.append(get_cate(entry))\n",
    "    \n"
   ]
  },
  {
   "cell_type": "code",
   "execution_count": 141,
   "metadata": {},
   "outputs": [],
   "source": [
    "ds_recclass_as_df = ds_recclass.to_frame()\n",
    "ds_recclass_as_df[\"main_category\"] = ds_recclass_as_df[\"recclass\"].apply(get_cate)\n",
    "ds_main_category = ds_recclass_as_df[\"main_category\"]"
   ]
  },
  {
   "cell_type": "code",
   "execution_count": 142,
   "metadata": {
    "scrolled": true
   },
   "outputs": [
    {
     "data": {
      "image/png": "[encoded data removed]",
      "text/plain": [
       "<Figure size 432x288 with 1 Axes>"
      ]
     },
     "metadata": {
      "needs_background": "light"
     },
     "output_type": "display_data"
    }
   ],
   "source": [
    "counted_categories = ds_main_category.value_counts()\n",
    "main_category_barplot = sns.barplot(counted_categories.keys(), counted_categories)\n",
    "main_category_barplot.set_xticklabels(main_category_barplot.get_xticklabels())\n",
    "main_category_barplot.set_title(\"Barplot of the 3 main recclass types (+ unclassified recclass)\")\n",
    "main_category_barplot;"
   ]
  },
  {
   "cell_type": "code",
   "execution_count": 143,
   "metadata": {},
   "outputs": [
    {
     "name": "stdout",
     "output_type": "stream",
     "text": [
      "131 out of 45716 total values are NaN\n"
     ]
    }
   ],
   "source": [
    "ds_mass = ds['mass']\n",
    "print(\"{} out of {} total values are NaN\".format(len(ds_mass[ds_mass.isnull()]), len(ds_mass)))\n"
   ]
  },
  {
   "cell_type": "code",
   "execution_count": 144,
   "metadata": {},
   "outputs": [
    {
     "data": {
      "text/plain": [
       "count    4.558500e+04\n",
       "mean     1.327808e+04\n",
       "std      5.749889e+05\n",
       "min      0.000000e+00\n",
       "25%      7.200000e+00\n",
       "50%      3.260000e+01\n",
       "75%      2.026000e+02\n",
       "max      6.000000e+07\n",
       "Name: mass, dtype: float64"
      ]
     },
     "execution_count": 144,
     "metadata": {},
     "output_type": "execute_result"
    }
   ],
   "source": [
    "#drop nan vals\n",
    "correctedMass= ds_mass.dropna()\n",
    "correctedMass.describe()"
   ]
  },
  {
   "cell_type": "code",
   "execution_count": 145,
   "metadata": {},
   "outputs": [],
   "source": [
    "#look at the year\n",
    "ds_year=ds['year']"
   ]
  },
  {
   "cell_type": "code",
   "execution_count": 146,
   "metadata": {},
   "outputs": [
    {
     "name": "stdout",
     "output_type": "stream",
     "text": [
      "288 out of 45716 total values are NaN\n"
     ]
    }
   ],
   "source": [
    "print(\"{} out of {} total values are NaN\".format(len(ds_year[ds_year.isnull()]), len(ds_year)))"
   ]
  },
  {
   "cell_type": "code",
   "execution_count": 147,
   "metadata": {
    "scrolled": true
   },
   "outputs": [
    {
     "name": "stdout",
     "output_type": "stream",
     "text": [
      "Min year: 301.0\n",
      "Max year: 2501.0\n",
      "Med year: 1998.0\n"
     ]
    }
   ],
   "source": [
    "#drop nan and find min max and med \n",
    "ds_year_corrected = ds_year.dropna()\n",
    "print(\"Min year: {}\\nMax year: {}\\nMed year: {}\".format(ds_year_corrected.min(), ds_year_corrected.max(), ds_year_corrected.median()))"
   ]
  },
  {
   "cell_type": "code",
   "execution_count": 148,
   "metadata": {
    "scrolled": true
   },
   "outputs": [
    {
     "data": {
      "image/png": "[encoded data removed]",
      "text/plain": [
       "<Figure size 432x288 with 1 Axes>"
      ]
     },
     "metadata": {
      "needs_background": "light"
     },
     "output_type": "display_data"
    }
   ],
   "source": [
    "hist_year = sns.distplot(ds_year_corrected)\n",
    "hist_year.set_title(\"Histogram of the year distribution of the found meteorites\")\n",
    "hist_year;"
   ]
  },
  {
   "cell_type": "code",
   "execution_count": 149,
   "metadata": {},
   "outputs": [
    {
     "data": {
      "text/plain": [
       "30679    2101.0\n",
       "38188    2501.0\n",
       "Name: year, dtype: float64"
      ]
     },
     "execution_count": 149,
     "metadata": {},
     "output_type": "execute_result"
    }
   ],
   "source": [
    "future_discoveries = ds_year_corrected[ds_year_corrected > 2019]\n",
    "future_discoveries"
   ]
  },
  {
   "cell_type": "code",
   "execution_count": 150,
   "metadata": {},
   "outputs": [
    {
     "data": {
      "text/html": [
       "<div>\n",
       "<style scoped>\n",
       "    .dataframe tbody tr th:only-of-type {\n",
       "        vertical-align: middle;\n",
       "    }\n",
       "\n",
       "    .dataframe tbody tr th {\n",
       "        vertical-align: top;\n",
       "    }\n",
       "\n",
       "    .dataframe thead th {\n",
       "        text-align: right;\n",
       "    }\n",
       "</style>\n",
       "<table border=\"1\" class=\"dataframe\">\n",
       "  <thead>\n",
       "    <tr style=\"text-align: right;\">\n",
       "      <th></th>\n",
       "      <th>name</th>\n",
       "      <th>id</th>\n",
       "      <th>nametype</th>\n",
       "      <th>recclass</th>\n",
       "      <th>mass</th>\n",
       "      <th>fall</th>\n",
       "      <th>year</th>\n",
       "      <th>reclat</th>\n",
       "      <th>reclong</th>\n",
       "      <th>GeoLocation</th>\n",
       "    </tr>\n",
       "  </thead>\n",
       "  <tbody>\n",
       "    <tr>\n",
       "      <th>30679</th>\n",
       "      <td>Northwest Africa 7701</td>\n",
       "      <td>57150</td>\n",
       "      <td>Valid</td>\n",
       "      <td>CK6</td>\n",
       "      <td>55.0</td>\n",
       "      <td>Found</td>\n",
       "      <td>2101.0</td>\n",
       "      <td>0.0</td>\n",
       "      <td>0.00000</td>\n",
       "      <td>(0.000000, 0.000000)</td>\n",
       "    </tr>\n",
       "    <tr>\n",
       "      <th>38188</th>\n",
       "      <td>Ur</td>\n",
       "      <td>24125</td>\n",
       "      <td>Valid</td>\n",
       "      <td>Iron</td>\n",
       "      <td>NaN</td>\n",
       "      <td>Found</td>\n",
       "      <td>2501.0</td>\n",
       "      <td>30.9</td>\n",
       "      <td>46.01667</td>\n",
       "      <td>(30.900000, 46.016670)</td>\n",
       "    </tr>\n",
       "  </tbody>\n",
       "</table>\n",
       "</div>"
      ],
      "text/plain": [
       "                        name     id nametype recclass  mass   fall    year  \\\n",
       "30679  Northwest Africa 7701  57150    Valid      CK6  55.0  Found  2101.0   \n",
       "38188                     Ur  24125    Valid     Iron   NaN  Found  2501.0   \n",
       "\n",
       "       reclat   reclong             GeoLocation  \n",
       "30679     0.0   0.00000    (0.000000, 0.000000)  \n",
       "38188    30.9  46.01667  (30.900000, 46.016670)  "
      ]
     },
     "execution_count": 150,
     "metadata": {},
     "output_type": "execute_result"
    }
   ],
   "source": [
    "future_discoveries_rows = ds[ds_year.notnull().any() and ds_year > 2019]\n",
    "future_discoveries_rows"
   ]
  },
  {
   "cell_type": "code",
   "execution_count": 151,
   "metadata": {},
   "outputs": [],
   "source": [
    "lat=ds['reclat']\n",
    "long=ds['reclong']"
   ]
  },
  {
   "cell_type": "code",
   "execution_count": 152,
   "metadata": {},
   "outputs": [
    {
     "name": "stdout",
     "output_type": "stream",
     "text": [
      "There are 12739 unique lats out of total 45716 and 7315 nan vals\n"
     ]
    }
   ],
   "source": [
    "ds_reclat=ds['reclat']#\n",
    "print('There are {} unique lats out of total {} and {} nan vals'.format(len(ds.reclat.unique()),len(ds.reclat),len(ds_reclat[ds_reclat.isna()])))"
   ]
  },
  {
   "cell_type": "code",
   "execution_count": 153,
   "metadata": {},
   "outputs": [
    {
     "name": "stdout",
     "output_type": "stream",
     "text": [
      "There are 14641 unique longs out of total 45716 and 7315 nan vals\n"
     ]
    }
   ],
   "source": [
    "ds_reclong=ds['reclong']\n",
    "print('There are {} unique longs out of total {} and {} nan vals'.format(len(ds.reclong.unique()),len(ds.reclong),len(ds_reclong[ds_reclong.isna()])))"
   ]
  },
  {
   "cell_type": "code",
   "execution_count": 154,
   "metadata": {},
   "outputs": [
    {
     "data": {
      "text/plain": [
       "[<matplotlib.lines.Line2D at 0x1da87e44828>]"
      ]
     },
     "execution_count": 154,
     "metadata": {},
     "output_type": "execute_result"
    },
    {
     "data": {
      "image/png": "[encoded data removed]",
      "text/plain": [
       "<Figure size 432x288 with 1 Axes>"
      ]
     },
     "metadata": {
      "needs_background": "light"
     },
     "output_type": "display_data"
    }
   ],
   "source": [
    "plt.plot(lat)\n",
    "plt.plot(long)"
   ]
  },
  {
   "cell_type": "code",
   "execution_count": 155,
   "metadata": {},
   "outputs": [],
   "source": [
    "newLat=lat.dropna() #droppping nan vals\n",
    "newLong=long.dropna()"
   ]
  },
  {
   "cell_type": "code",
   "execution_count": 156,
   "metadata": {
    "scrolled": true
   },
   "outputs": [
    {
     "data": {
      "text/plain": [
       "count    38401.000000\n",
       "mean        61.074319\n",
       "std         80.647298\n",
       "min       -165.433330\n",
       "25%          0.000000\n",
       "50%         35.666670\n",
       "75%        157.166670\n",
       "max        354.473330\n",
       "Name: reclong, dtype: float64"
      ]
     },
     "execution_count": 156,
     "metadata": {},
     "output_type": "execute_result"
    },
    {
     "data": {
      "image/png": "[encoded data removed]",
      "text/plain": [
       "<Figure size 432x288 with 1 Axes>"
      ]
     },
     "metadata": {
      "needs_background": "light"
     },
     "output_type": "display_data"
    }
   ],
   "source": [
    "plt.boxplot(newLong)\n",
    "newLong.describe()"
   ]
  },
  {
   "cell_type": "code",
   "execution_count": 157,
   "metadata": {},
   "outputs": [
    {
     "data": {
      "image/png": "[encoded data removed]",
      "text/plain": [
       "<Figure size 648x432 with 1 Axes>"
      ]
     },
     "metadata": {
      "needs_background": "light"
     },
     "output_type": "display_data"
    }
   ],
   "source": [
    "fig=plt.figure(1,figsize=(9,6))\n",
    "ax=fig.add_subplot(111)\n",
    "data=[newLat,newLong]\n",
    "bp=ax.boxplot(data)"
   ]
  },
  {
   "cell_type": "code",
   "execution_count": 158,
   "metadata": {},
   "outputs": [
    {
     "data": {
      "text/plain": [
       "<matplotlib.collections.PathCollection at 0x1da8d23b2e8>"
      ]
     },
     "execution_count": 158,
     "metadata": {},
     "output_type": "execute_result"
    },
    {
     "data": {
      "image/png": "[encoded data removed]",
      "text/plain": [
       "<Figure size 432x288 with 1 Axes>"
      ]
     },
     "metadata": {
      "needs_background": "light"
     },
     "output_type": "display_data"
    }
   ],
   "source": [
    "plt.scatter(newLong,newLat)"
   ]
  },
  {
   "cell_type": "code",
   "execution_count": null,
   "metadata": {},
   "outputs": [],
   "source": []
  }
 ],
 "metadata": {
  "kernelspec": {
   "display_name": "Python 3",
   "language": "python",
   "name": "python3"
  },
  "language_info": {
   "codemirror_mode": {
    "name": "ipython",
    "version": 3
   },
   "file_extension": ".py",
   "mimetype": "text/x-python",
   "name": "python",
   "nbconvert_exporter": "python",
   "pygments_lexer": "ipython3",
   "version": "3.6.8"
  }
 },
 "nbformat": 4,
 "nbformat_minor": 2
}
